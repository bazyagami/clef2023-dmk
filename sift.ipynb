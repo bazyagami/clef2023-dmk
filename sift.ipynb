{
  "cells": [
    {
      "cell_type": "code",
      "execution_count": null,
      "metadata": {
        "id": "PHne2oSEz--j"
      },
      "outputs": [],
      "source": [
        "from google.colab import drive\n",
        "drive.mount('/content/drive')"
      ]
    },
    {
      "cell_type": "code",
      "source": [
        "pip install opencv-python numpy scikit-learn\n"
      ],
      "metadata": {
        "id": "DXJje1hRAesh"
      },
      "execution_count": null,
      "outputs": []
    },
    {
      "cell_type": "code",
      "execution_count": null,
      "metadata": {
        "id": "WEpUKwWAwuVh"
      },
      "outputs": [],
      "source": [
        "import cv2\n",
        "import numpy as np\n",
        "from sklearn.cluster import KMeans\n",
        "from sklearn.neighbors import KNeighborsClassifier\n",
        "\n",
        "# Define the number of clusters (visual words)\n",
        "num_clusters = 100\n",
        "\n",
        "# Load the dataset\n",
        "gen_images = []\n",
        "used_images = []\n",
        "unused_images = []\n",
        "\n",
        "for i in range(1,501):\n",
        "    gen_images.append(cv2.imread(f'/content/drive/MyDrive/generated/generated_{i:04d}.png'))\n",
        "for i in range(1,81):\n",
        "    used_images.append(cv2.imread(f'/content/drive/MyDrive/used/used_{i:04d}.png'))\n",
        "    unused_images.append(cv2.imread(f'/content/drive/MyDrive/not_used/not_used_{i:04d}.png'))\n",
        "# Extract SIFT features\n",
        "sift = cv2.SIFT_create()\n",
        "\n",
        "def extract_sift_features(images):\n",
        "    sift = cv2.SIFT_create()\n",
        "    sift_features = []\n",
        "    for img in images:\n",
        "        bgr_img = cv2.cvtColor(img, cv2.COLOR_RGB2BGR)\n",
        "        gray = cv2.cvtColor(bgr_img, cv2.COLOR_BGR2GRAY)\n",
        "        kp, des = sift.detectAndCompute(gray, None)\n",
        "        sift_features.append(des)\n",
        "    return sift_features\n",
        "\n",
        "gen_sift_features = extract_sift_features(gen_images)\n",
        "used_sift_features = extract_sift_features(used_images)\n",
        "unused_sift_features = extract_sift_features(unused_images)\n",
        "\n",
        "# Cluster the SIFT features to create a vocabulary of visual words\n",
        "kmeans = KMeans(n_clusters=num_clusters, random_state=42).fit(np.vstack(gen_sift_features))\n",
        "\n",
        "# Convert each image into a histogram of visual words\n",
        "def create_histogram(features):\n",
        "    histogram = np.zeros((len(features), num_clusters), dtype=int)\n",
        "    for i, des in enumerate(features):\n",
        "        words = kmeans.predict(des)\n",
        "        histogram[i, words] += 1\n",
        "    return histogram\n",
        "\n",
        "gen_histograms = create_histogram(gen_sift_features)\n",
        "used_histograms = create_histogram(used_sift_features)\n",
        "unused_histograms = create_histogram(unused_sift_features)\n",
        "\n",
        "# Train a KNN classifier using the histogram of visual words as features\n",
        "X_train = np.vstack((used_histograms, unused_histograms))\n",
        "y_train = np.hstack((np.ones(len(used_histograms)), np.zeros(len(unused_histograms))))\n",
        "classifier = KNeighborsClassifier(n_neighbors=5)\n",
        "classifier.fit(X_train, y_train)\n",
        "\n",
        "# Test the classifier on the testing data\n",
        "test_gen_images = []\n",
        "test_unknown_images = []\n",
        "for i in range(1,10001):\n",
        "    test_gen_images.append(cv2.imread(f'/content/drive/MyDrive/generated_1/generated_{i:05d}.png'))\n",
        "for i in range(1,201):\n",
        "    test_unknown_images.append(cv2.imread(f'/content/drive/MyDrive/real_unknown_1/real_unknown_{i:04d}.png'))\n",
        "\n",
        "test_gen_sift_features = extract_sift_features(test_gen_images)\n",
        "test_unknown_sift_features = extract_sift_features(test_unknown_images)\n",
        "\n",
        "test_gen_histograms = create_histogram(test_gen_sift_features)\n",
        "test_unknown_histograms = create_histogram(test_unknown_sift_features)\n",
        "\n",
        "# Predict the labels of the testing data\n",
        "X_test = np.vstack((test_gen_histograms, test_unknown_histograms))\n",
        "y_pred = classifier.predict(X_test)\n",
        "\n",
        "\n"
      ]
    },
    {
      "cell_type": "code",
      "source": [
        "# Predict the labels of the testing data\n",
        "X_test = np.vstack((test_gen_histograms, test_unknown_histograms))\n",
        "y_pred = classifier.predict(X_test)\n",
        "\n",
        "# Write the predictions to a file\n",
        "with open('submission.txt', 'w') as f:\n",
        "    for i in range(len(y_pred)):\n",
        "        if i >= len(test_gen_images):\n",
        "            f.write(f'{i+1-len(test_gen_images)},{y_pred[i]}\\n')\n"
      ],
      "metadata": {
        "id": "NdMZ5WX3XA6t"
      },
      "execution_count": 10,
      "outputs": []
    }
  ],
  "metadata": {
    "colab": {
      "provenance": []
    },
    "kernelspec": {
      "display_name": "Python 3",
      "name": "python3"
    },
    "language_info": {
      "name": "python"
    }
  },
  "nbformat": 4,
  "nbformat_minor": 0
}